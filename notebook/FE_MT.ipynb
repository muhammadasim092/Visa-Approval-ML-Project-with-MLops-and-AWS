{
 "cells": [
  {
   "cell_type": "code",
   "execution_count": 4,
   "id": "b8241e1a",
   "metadata": {},
   "outputs": [],
   "source": [
    "import pandas as pd\n",
    "import numpy as np\n",
    "import matplotlib.pyplot as plt\n",
    "import seaborn as sns\n",
    "import warnings"
   ]
  },
  {
   "cell_type": "code",
   "execution_count": 7,
   "id": "e26ed3ac",
   "metadata": {},
   "outputs": [
    {
     "name": "stdout",
     "output_type": "stream",
     "text": [
      "(25480, 12)\n"
     ]
    }
   ],
   "source": [
    "warnings.filterwarnings(\"ignore\")\n",
    "pd.set_option(\"display.max_columns\", None)\n",
    "\n",
    "df = pd.read_csv(r\"Visa_Predection_Dataset.csv\")\n",
    "print(df.shape)"
   ]
  },
  {
   "cell_type": "markdown",
   "id": "e1d03188",
   "metadata": {},
   "source": [
    "check null values"
   ]
  },
  {
   "cell_type": "code",
   "execution_count": 11,
   "id": "d8f9f314",
   "metadata": {},
   "outputs": [
    {
     "data": {
      "text/plain": [
       "[]"
      ]
     },
     "execution_count": 11,
     "metadata": {},
     "output_type": "execute_result"
    }
   ],
   "source": [
    "# List of features with missing values\n",
    "features_with_na = [feature for feature in df.columns if df[feature].isnull().sum() >= 1]\n",
    "\n",
    "# Print percentage of missing values\n",
    "for feature in features_with_na:\n",
    "    print(feature, np.round(df[feature].isnull().mean() * 100, 5), '% missing values')\n",
    "\n",
    "features_with_na\n"
   ]
  },
  {
   "cell_type": "code",
   "execution_count": null,
   "id": "cb41b787",
   "metadata": {},
   "outputs": [],
   "source": []
  }
 ],
 "metadata": {
  "kernelspec": {
   "display_name": "visa-ml",
   "language": "python",
   "name": "python3"
  },
  "language_info": {
   "codemirror_mode": {
    "name": "ipython",
    "version": 3
   },
   "file_extension": ".py",
   "mimetype": "text/x-python",
   "name": "python",
   "nbconvert_exporter": "python",
   "pygments_lexer": "ipython3",
   "version": "3.13.5"
  }
 },
 "nbformat": 4,
 "nbformat_minor": 5
}
